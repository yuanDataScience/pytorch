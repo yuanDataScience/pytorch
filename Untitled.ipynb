{
 "cells": [
  {
   "cell_type": "code",
   "execution_count": 11,
   "id": "2fc1a4b8",
   "metadata": {},
   "outputs": [],
   "source": [
    "import math\n",
    "import torch\n",
    "x = torch.tensor([[1, 2, 3],\n",
    "                  [4, 5, 6]])"
   ]
  },
  {
   "cell_type": "code",
   "execution_count": 12,
   "id": "cf3e30c8",
   "metadata": {},
   "outputs": [
    {
     "data": {
      "text/plain": [
       "tensor([[  2.7183,   7.3891,  20.0855],\n",
       "        [ 54.5981, 148.4132, 403.4288]])"
      ]
     },
     "execution_count": 12,
     "metadata": {},
     "output_type": "execute_result"
    }
   ],
   "source": [
    "x.exp()"
   ]
  },
  {
   "cell_type": "code",
   "execution_count": 15,
   "id": "60e3a825",
   "metadata": {},
   "outputs": [],
   "source": [
    "log_softmax = x.exp().sum(-1).log().unsqueeze(-1)"
   ]
  },
  {
   "cell_type": "code",
   "execution_count": 16,
   "id": "f5d6a41a",
   "metadata": {},
   "outputs": [
    {
     "data": {
      "text/plain": [
       "torch.Size([2, 1])"
      ]
     },
     "execution_count": 16,
     "metadata": {},
     "output_type": "execute_result"
    }
   ],
   "source": [
    "log_softmax.shape"
   ]
  },
  {
   "cell_type": "code",
   "execution_count": 17,
   "id": "2e6c0fd9",
   "metadata": {},
   "outputs": [],
   "source": [
    "from typing import Tuple\n",
    "def simu(a: int, b: int) -> Tuple[int, int]:\n",
    "    return a+b, a-b"
   ]
  },
  {
   "cell_type": "code",
   "execution_count": 23,
   "id": "ac01a817",
   "metadata": {},
   "outputs": [
    {
     "name": "stdout",
     "output_type": "stream",
     "text": [
      "[(3, -1), (7, -1), (11, -1), (15, -1)]\n",
      "[(3, 7, 11, 15), (-1, -1, -1, -1)]\n"
     ]
    }
   ],
   "source": [
    "test = [(1, 2), (3, 4), (5, 6), (7, 8)]\n",
    "print([simu(a, b) for a, b in test])\n",
    "print(list(zip(*[simu(a, b) for a, b in test])))"
   ]
  },
  {
   "cell_type": "code",
   "execution_count": 25,
   "id": "c5f80c15",
   "metadata": {},
   "outputs": [
    {
     "data": {
      "text/plain": [
       "[((3, -1),), ((7, -1),), ((11, -1),), ((15, -1),)]"
      ]
     },
     "execution_count": 25,
     "metadata": {},
     "output_type": "execute_result"
    }
   ],
   "source": [
    "list(zip([simu(a, b) for a, b in test]))"
   ]
  },
  {
   "cell_type": "code",
   "execution_count": 27,
   "id": "b6dce8a2",
   "metadata": {},
   "outputs": [
    {
     "name": "stdout",
     "output_type": "stream",
     "text": [
      "(3, -1) (7, -1) (11, -1) (15, -1)\n"
     ]
    }
   ],
   "source": [
    "print(*[simu(a, b) for a, b in test])"
   ]
  },
  {
   "cell_type": "code",
   "execution_count": null,
   "id": "3bde3a46",
   "metadata": {},
   "outputs": [],
   "source": []
  }
 ],
 "metadata": {
  "kernelspec": {
   "display_name": "Python 3 (ipykernel)",
   "language": "python",
   "name": "python3"
  },
  "language_info": {
   "codemirror_mode": {
    "name": "ipython",
    "version": 3
   },
   "file_extension": ".py",
   "mimetype": "text/x-python",
   "name": "python",
   "nbconvert_exporter": "python",
   "pygments_lexer": "ipython3",
   "version": "3.10.4"
  }
 },
 "nbformat": 4,
 "nbformat_minor": 5
}
